{
 "cells": [
  {
   "cell_type": "markdown",
   "id": "9b7479a1",
   "metadata": {},
   "source": [
    "# PCA Step-by-Step Practical Example\n",
    "\n",
    "This notebook demonstrates **Principal Component Analysis (PCA)** step by step on the Iris dataset (numeric features only).  \n",
    "We will cover **all PCA steps rigorously**, from data preprocessing to eigen decomposition, variance explained, and reconstruction.\n",
    "\n",
    "---\n"
   ]
  },
  {
   "cell_type": "code",
   "execution_count": null,
   "id": "819d322d",
   "metadata": {},
   "outputs": [],
   "source": [
    "\n",
    "import numpy as np\n",
    "import pandas as pd\n",
    "import matplotlib.pyplot as plt\n",
    "from sklearn.datasets import load_iris\n",
    "\n",
    "# Load dataset\n",
    "iris = load_iris()\n",
    "X = iris.data[:, :3]   # use first 3 features for easier visualization\n",
    "df = pd.DataFrame(X, columns=iris.feature_names[:3])\n",
    "df.head()\n"
   ]
  },
  {
   "cell_type": "code",
   "execution_count": null,
   "id": "1fe2a478",
   "metadata": {},
   "outputs": [],
   "source": [
    "\n",
    "# Step 1: Data Preprocessing\n",
    "X = df.values\n",
    "\n",
    "# Centering\n",
    "mean_vec = np.mean(X, axis=0)\n",
    "X_centered = X - mean_vec\n",
    "\n",
    "# Optional scaling (standardization)\n",
    "std_vec = np.std(X, axis=0, ddof=1)\n",
    "X_scaled = X_centered / std_vec\n",
    "\n",
    "print(\"Mean vector:\", mean_vec)\n",
    "print(\"Standard deviations:\", std_vec)\n"
   ]
  },
  {
   "cell_type": "code",
   "execution_count": null,
   "id": "ccecf588",
   "metadata": {},
   "outputs": [],
   "source": [
    "\n",
    "# Step 2: Covariance Matrix\n",
    "cov_matrix = np.cov(X_centered.T)\n",
    "print(\"Covariance matrix:\\n\", cov_matrix)\n"
   ]
  },
  {
   "cell_type": "code",
   "execution_count": null,
   "id": "116a775e",
   "metadata": {},
   "outputs": [],
   "source": [
    "\n",
    "# Step 3: Eigen Decomposition\n",
    "eig_vals, eig_vecs = np.linalg.eigh(cov_matrix)\n",
    "\n",
    "# Sort eigenvalues & eigenvectors in descending order\n",
    "idx = np.argsort(eig_vals)[::-1]\n",
    "eig_vals = eig_vals[idx]\n",
    "eig_vecs = eig_vecs[:, idx]\n",
    "\n",
    "print(\"Eigenvalues:\", eig_vals)\n",
    "print(\"Eigenvectors (columns are PCs):\\n\", eig_vecs)\n"
   ]
  },
  {
   "cell_type": "code",
   "execution_count": null,
   "id": "245ee7cd",
   "metadata": {},
   "outputs": [],
   "source": [
    "\n",
    "# Step 4: Explained Variance\n",
    "explained_var_ratio = eig_vals / np.sum(eig_vals)\n",
    "cum_explained = np.cumsum(explained_var_ratio)\n",
    "\n",
    "print(\"Explained variance ratio:\", explained_var_ratio)\n",
    "print(\"Cumulative explained variance:\", cum_explained)\n",
    "\n",
    "plt.plot(np.arange(1, len(eig_vals)+1), cum_explained, marker='o')\n",
    "plt.axhline(0.95, color='r', linestyle='--', label='95% threshold')\n",
    "plt.xlabel(\"Number of Components\")\n",
    "plt.ylabel(\"Cumulative Explained Variance\")\n",
    "plt.legend()\n",
    "plt.show()\n"
   ]
  },
  {
   "cell_type": "code",
   "execution_count": null,
   "id": "ceb2f55b",
   "metadata": {},
   "outputs": [],
   "source": [
    "\n",
    "# Step 5: Projection onto top-k PCs (choose k=2 for 95%+ variance)\n",
    "k = 2\n",
    "W = eig_vecs[:, :k]\n",
    "X_projected = X_centered @ W\n",
    "\n",
    "print(\"Shape of projected data:\", X_projected.shape)\n",
    "\n",
    "plt.scatter(X_projected[:,0], X_projected[:,1], c=iris.target, cmap='viridis')\n",
    "plt.xlabel(\"PC1\")\n",
    "plt.ylabel(\"PC2\")\n",
    "plt.title(\"Projection onto first 2 Principal Components\")\n",
    "plt.show()\n"
   ]
  },
  {
   "cell_type": "code",
   "execution_count": null,
   "id": "ecd03b7a",
   "metadata": {},
   "outputs": [],
   "source": [
    "\n",
    "# Step 6: Reconstruction from reduced space\n",
    "X_reconstructed = X_projected @ W.T + mean_vec\n",
    "\n",
    "# Reconstruction error (MSE)\n",
    "mse = np.mean((X - X_reconstructed)**2)\n",
    "print(\"Reconstruction MSE with k=2:\", mse)\n"
   ]
  },
  {
   "cell_type": "code",
   "execution_count": null,
   "id": "ad1438c1",
   "metadata": {},
   "outputs": [],
   "source": [
    "\n",
    "# Save projected data & reconstruction\n",
    "output_file = \"/mnt/data/pca_projection_and_reconstruction.csv\"\n",
    "pd.DataFrame({\n",
    "    \"PC1\": X_projected[:,0],\n",
    "    \"PC2\": X_projected[:,1],\n",
    "    \"Target\": iris.target\n",
    "}).to_csv(output_file, index=False)\n",
    "\n",
    "print(\"Saved PCA results to:\", output_file)\n"
   ]
  }
 ],
 "metadata": {
  "language_info": {
   "name": "python"
  }
 },
 "nbformat": 4,
 "nbformat_minor": 5
}
